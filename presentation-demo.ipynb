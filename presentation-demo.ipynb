{
 "cells": [
  {
   "cell_type": "markdown",
   "id": "091c8d59-6e24-4eb0-b867-0f3ea3e9733c",
   "metadata": {
    "user_expressions": []
   },
   "source": [
    "# JupyterCards Demo"
   ]
  },
  {
   "cell_type": "code",
   "execution_count": null,
   "id": "10813285-8289-4b65-bcad-8725c79d2020",
   "metadata": {
    "slideshow": {
     "slide_type": "subslide"
    },
    "tags": []
   },
   "outputs": [],
   "source": [
    "# Import display_flashcards()\n"
   ]
  },
  {
   "cell_type": "code",
   "execution_count": null,
   "id": "2fea45f2-f559-486c-9199-d05c3071feb3",
   "metadata": {
    "slideshow": {
     "slide_type": "fragment"
    },
    "tags": []
   },
   "outputs": [],
   "source": [
    "# Make list containing 1 flashcard for JupyterCards:\n"
   ]
  },
  {
   "cell_type": "code",
   "execution_count": null,
   "id": "129f918f-ec7b-4de7-9880-bd7ce765376d",
   "metadata": {
    "slideshow": {
     "slide_type": "subslide"
    },
    "tags": []
   },
   "outputs": [],
   "source": [
    "# Display the flashcard\n"
   ]
  },
  {
   "cell_type": "code",
   "execution_count": null,
   "id": "ef29855e-0ea9-415e-915a-a189c31b31ae",
   "metadata": {},
   "outputs": [],
   "source": [
    "# Match theme of JupyterCon\n"
   ]
  },
  {
   "cell_type": "code",
   "execution_count": null,
   "id": "ef12d718-7e40-4d9c-85b3-e71eeed194c8",
   "metadata": {
    "slideshow": {
     "slide_type": "subslide"
    },
    "tags": []
   },
   "outputs": [],
   "source": [
    "# Let's add another card\n",
    "\n"
   ]
  },
  {
   "cell_type": "code",
   "execution_count": null,
   "id": "0fd05c52-b0d5-4be5-8bb3-b41aa43f8e6a",
   "metadata": {
    "slideshow": {
     "slide_type": "subslide"
    },
    "tags": []
   },
   "outputs": [],
   "source": [
    "# and display it\n"
   ]
  },
  {
   "cell_type": "markdown",
   "id": "db6626f0-ab6e-4380-9f4a-7d0f601918df",
   "metadata": {
    "slideshow": {
     "slide_type": "subslide"
    },
    "tags": [],
    "user_expressions": []
   },
   "source": [
    "## Can use LaTeX for pretty math:"
   ]
  },
  {
   "cell_type": "code",
   "execution_count": null,
   "id": "d25f1e90-707c-4e58-be70-bcd63cdf4480",
   "metadata": {
    "slideshow": {
     "slide_type": "fragment"
    },
    "tags": []
   },
   "outputs": [],
   "source": [
    "# Add a card with LaTeX\n"
   ]
  },
  {
   "cell_type": "code",
   "execution_count": null,
   "id": "c34d810a-2a91-461b-8b3a-3741bd0d4cb4",
   "metadata": {
    "slideshow": {
     "slide_type": "subslide"
    },
    "tags": []
   },
   "outputs": [],
   "source": []
  },
  {
   "cell_type": "markdown",
   "id": "e0f83459-0ea7-4ec2-b655-a67e891b178b",
   "metadata": {
    "tags": [],
    "user_expressions": []
   },
   "source": [
    "# Jupyter Quiz Demo\n",
    "\n",
    "![](figs/mc_schema1.png)"
   ]
  },
  {
   "cell_type": "code",
   "execution_count": null,
   "id": "2b9bcf22-7afd-4dbb-9ce2-5e51df8a0787",
   "metadata": {
    "slideshow": {
     "slide_type": "fragment"
    },
    "tags": []
   },
   "outputs": [],
   "source": [
    "# import display_quiz()\n"
   ]
  },
  {
   "cell_type": "code",
   "execution_count": null,
   "id": "ac3ce9d8-13f5-43be-8eee-92fe03711d42",
   "metadata": {
    "slideshow": {
     "slide_type": "fragment"
    },
    "tags": []
   },
   "outputs": [],
   "source": [
    "# Add a question with code\n"
   ]
  },
  {
   "cell_type": "code",
   "execution_count": null,
   "id": "4a82cfb4-27c6-453e-a7b7-79effb3191d2",
   "metadata": {
    "slideshow": {
     "slide_type": "subslide"
    },
    "tags": []
   },
   "outputs": [],
   "source": [
    "# Display it\n"
   ]
  },
  {
   "cell_type": "markdown",
   "id": "bd9a8010-9fce-418e-b00a-ec379322a8f9",
   "metadata": {
    "user_expressions": []
   },
   "source": [
    "We need to add some answers:\n",
    "\n",
    "![](figs/mc_schema2.png)"
   ]
  },
  {
   "cell_type": "code",
   "execution_count": null,
   "id": "10841bd3-402b-4a03-85ad-9f5f38bdfd5d",
   "metadata": {
    "slideshow": {
     "slide_type": "subslide"
    },
    "tags": []
   },
   "outputs": [],
   "source": [
    "# Add answers\n"
   ]
  },
  {
   "cell_type": "code",
   "execution_count": null,
   "id": "fdb5a195-98bf-4506-a955-23232081e7a5",
   "metadata": {
    "slideshow": {
     "slide_type": "subslide"
    },
    "tags": []
   },
   "outputs": [],
   "source": [
    "# Display it with answers\n"
   ]
  },
  {
   "cell_type": "code",
   "execution_count": null,
   "id": "4768fa72-f8bd-442c-afc4-a8e71912c5fa",
   "metadata": {
    "slideshow": {
     "slide_type": "subslide"
    },
    "tags": []
   },
   "outputs": [],
   "source": [
    "# Back to RISE for a second\n"
   ]
  },
  {
   "cell_type": "code",
   "execution_count": null,
   "id": "0227fcc9-b8e1-4a7f-b028-0578671a50e6",
   "metadata": {
    "slideshow": {
     "slide_type": "subslide"
    },
    "tags": []
   },
   "outputs": [],
   "source": [
    "# Edit to add feedback:\n"
   ]
  },
  {
   "cell_type": "code",
   "execution_count": null,
   "id": "b373e0d3-2464-460c-9cf1-3b520688676a",
   "metadata": {
    "slideshow": {
     "slide_type": "subslide"
    },
    "tags": []
   },
   "outputs": [],
   "source": [
    "# Display again\n"
   ]
  },
  {
   "cell_type": "code",
   "execution_count": null,
   "id": "7c3b030d-db0b-4c0e-8d48-5bc8bbe2815c",
   "metadata": {},
   "outputs": [],
   "source": [
    "# Create a numeric question\n"
   ]
  },
  {
   "cell_type": "code",
   "execution_count": null,
   "id": "273521e1-3ea5-421c-9b1c-3bf7c7fcae12",
   "metadata": {},
   "outputs": [],
   "source": [
    "# Display it\n"
   ]
  },
  {
   "cell_type": "code",
   "execution_count": null,
   "id": "044cb43c-04bd-4faf-b276-d34e4b7297b2",
   "metadata": {},
   "outputs": [],
   "source": [
    "# Copy and add some feedback\n"
   ]
  },
  {
   "cell_type": "code",
   "execution_count": null,
   "id": "eb37fbef-2698-403c-a7c9-be38f874986d",
   "metadata": {},
   "outputs": [],
   "source": [
    "# And display it\n"
   ]
  },
  {
   "cell_type": "code",
   "execution_count": null,
   "id": "ceadf4e5-54f1-49e1-81da-277c05e43484",
   "metadata": {},
   "outputs": [],
   "source": [
    "# I will release these scripts later!\n",
    "# alias chatquiz \"chatblade -p quiz2 \\!:1 | chatblade -p to_json -e |jsonlint > \\!:2\"\n",
    "# !chatquiz https://www.dataquest.io/blog/jupyter-notebook-tutorial/ aiquiz.json"
   ]
  },
  {
   "cell_type": "code",
   "execution_count": null,
   "id": "5c0abe32-87aa-44f6-9805-37ce5fbcc662",
   "metadata": {},
   "outputs": [],
   "source": [
    "# Display the quiz made by ChatGPT"
   ]
  }
 ],
 "metadata": {
  "celltoolbar": "Slideshow",
  "kernelspec": {
   "display_name": "Python 3 (ipykernel)",
   "language": "python",
   "name": "python3"
  },
  "language_info": {
   "codemirror_mode": {
    "name": "ipython",
    "version": 3
   },
   "file_extension": ".py",
   "mimetype": "text/x-python",
   "name": "python",
   "nbconvert_exporter": "python",
   "pygments_lexer": "ipython3",
   "version": "3.9.15"
  }
 },
 "nbformat": 4,
 "nbformat_minor": 5
}
