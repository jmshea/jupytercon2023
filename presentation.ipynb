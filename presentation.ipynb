{
 "cells": [
  {
   "cell_type": "markdown",
   "id": "31ee2a32-82d9-46e9-b133-03d0de4b57a9",
   "metadata": {
    "slideshow": {
     "slide_type": "slide"
    },
    "user_expressions": []
   },
   "source": [
    "# Tools for Interactive Education Experiences in Jupyter Notebooks and Jupyter Books\n",
    "\n",
    "<center>\n",
    "<img src=\"figs/qr.png\" style=\"width:15%;\">\n",
    "    <span style=\"height: 10em;width: 15%;display: inline-block;\"></span>\n",
    "<img src=\"figs/jupytercon.png\" style=\"width:40%;\">\n",
    "</center>\n"
   ]
  },
  {
   "cell_type": "markdown",
   "id": "a8cf00b1",
   "metadata": {
    "slideshow": {
     "slide_type": "slide"
    },
    "user_expressions": []
   },
   "source": [
    "## Pedagogical Motivation\n",
    "\n",
    "* Two educational tools have been shown to improve student learning and retention:\n",
    "\n",
    "<!-- <center><img src=\"figs/tran-mau-tri-tam-tZnbakTUcTI-unsplash.jpg\" style=\"width:40%;\"></center> -->\n",
    "\n",
    "\n"
   ]
  },
  {
   "cell_type": "markdown",
   "id": "2d23e88b",
   "metadata": {
    "slideshow": {
     "slide_type": "subslide"
    },
    "tags": [],
    "user_expressions": []
   },
   "source": [
    "### Low-Stakes Testing\n",
    "\n",
    "* Allow students to check their learning with no or minimal penalty\n",
    "* Allow students to try repeatedly, make mistance and learn from those mistakes\n",
    "* Provide feedback to guide learning\n",
    "\n",
    "<center>\n",
    "<div style=\"width:65%;\"><img src=\"figs/learning-to-ride.jpg\"></div>\n",
    "</center>"
   ]
  },
  {
   "cell_type": "markdown",
   "id": "e8cae35b-e119-4953-b733-915f240d2728",
   "metadata": {
    "slideshow": {
     "slide_type": "notes"
    },
    "tags": [],
    "user_expressions": []
   },
   "source": [
    "* Also known as \"Formative Assessment\""
   ]
  },
  {
   "cell_type": "markdown",
   "id": "d7055547",
   "metadata": {
    "slideshow": {
     "slide_type": "subslide"
    },
    "user_expressions": []
   },
   "source": [
    "### Spaced Repetition\n",
    "\n",
    "* Students review material repeatedly\n",
    "* The spacing between the review sessions increases over time\n",
    "\n",
    "<center>\n",
    "<div style=\"width:60%;\"><img src=\"figs/3_Hourglasses_Wellcome_L0011331.png\"></div>\n",
    "</center>"
   ]
  },
  {
   "cell_type": "markdown",
   "id": "7a8a6cb3-4a2d-4111-80c6-2c1d17ebca30",
   "metadata": {
    "slideshow": {
     "slide_type": "slide"
    },
    "tags": [],
    "user_expressions": []
   },
   "source": [
    "## Motivation from the Jupyter Ecosystem\n",
    "\n",
    "* Jupyter provides environments for fusing explanatory, visual, and computational components\n",
    "* Widgets enable students to interact with computational components\n",
    "* Tools like Thebe allow live code in HTML (such as for Jupyter Books)"
   ]
  },
  {
   "cell_type": "markdown",
   "id": "0ace226d-3a06-4c23-9cac-9d560c0d935c",
   "metadata": {
    "slideshow": {
     "slide_type": "fragment"
    },
    "tags": [],
    "user_expressions": []
   },
   "source": [
    "<br><center><b>But students also need tools for review and self-assessment</b></center>"
   ]
  },
  {
   "cell_type": "markdown",
   "id": "5bb65cc5-e966-4cfc-a8ef-24f4c33ca2f3",
   "metadata": {
    "slideshow": {
     "slide_type": "slide"
    },
    "user_expressions": []
   },
   "source": [
    "## Issues with Existing Tools:\n",
    "* Do not naturally integrate with Jupyter \n",
    "* Often require sign ups, lock users into particular ecosystems\n",
    "* Many don't support code, LaTeX (math typesetting), or images\n",
    "* Limited ability to style tools to match content theme\n",
    "* Require a server and do not work offline"
   ]
  },
  {
   "cell_type": "markdown",
   "id": "8eed541c-efa6-4a10-a469-152095f05745",
   "metadata": {
    "slideshow": {
     "slide_type": "subslide"
    },
    "tags": [],
    "user_expressions": []
   },
   "source": [
    "## Issues with Existing Tools:\n",
    "* tools are often unattractive ;-)\n",
    "\n",
    "![](figs/cram-flashcards.gif)"
   ]
  },
  {
   "cell_type": "markdown",
   "id": "051ef534-9ddf-4217-81e2-5eb1c0dd3c74",
   "metadata": {
    "slideshow": {
     "slide_type": "subslide"
    },
    "tags": [],
    "user_expressions": []
   },
   "source": [
    "![](figs/brainscape-flashcards.gif)"
   ]
  },
  {
   "cell_type": "markdown",
   "id": "0d4477e2-df8a-48f3-8264-475cecd107c0",
   "metadata": {
    "slideshow": {
     "slide_type": "subslide"
    },
    "tags": [],
    "user_expressions": []
   },
   "source": [
    "![](figs/quizlet-flashcards.gif)"
   ]
  },
  {
   "cell_type": "markdown",
   "id": "f98cde38-c9ce-4e7d-917f-023b0b0d9731",
   "metadata": {
    "slideshow": {
     "slide_type": "subslide"
    },
    "tags": [],
    "user_expressions": []
   },
   "source": [
    "## Issues with Existing Quiz Tools:\n",
    "\n",
    "* Often focused on summative assessment -> assigning a score based on current knowledge\n",
    "* Often do not provide for repeated attempts with immediate feedback to help guide students\n",
    "\n",
    "<center>\n",
    "<div style=\"width:60%;align:center\"><img src=\"figs/lc-answers.png\"></div>\n",
    "</center>"
   ]
  },
  {
   "cell_type": "markdown",
   "id": "d0238561-f900-4136-a80d-9211f59a01bd",
   "metadata": {
    "slideshow": {
     "slide_type": "slide"
    },
    "tags": [],
    "user_expressions": []
   },
   "source": [
    "## Introduction to JupyterCards\n",
    "\n",
    "* Simple animated flashcards\n",
    "* Called from Python, but uses Javascript \"behind the scenes\"\n",
    "* Install via pip: \n",
    "\n",
    "    `pip install jupytercards`\n",
    "\n"
   ]
  },
  {
   "cell_type": "markdown",
   "id": "9def9bbb-f8b9-444e-890a-24fbdc8a95c4",
   "metadata": {
    "slideshow": {
     "slide_type": "subslide"
    },
    "tags": [],
    "user_expressions": []
   },
   "source": [
    "## Making Cards is Easy\n",
    "* Cards can be lists of dicts, JSON, or Markdown (experimental)\n",
    "* Each card is a Python `dict` or JSON `object` with a \"front\" and a \"back\""
   ]
  },
  {
   "cell_type": "markdown",
   "id": "9b23dce2-f4b7-48be-acec-f728762d3522",
   "metadata": {
    "slideshow": {
     "slide_type": "subslide"
    },
    "tags": [],
    "user_expressions": []
   },
   "source": [
    "## Demo \n",
    "\n",
    "**In JupyterLab**"
   ]
  },
  {
   "cell_type": "markdown",
   "id": "9c146eaf-6e29-4679-a3eb-e1a8238af1b1",
   "metadata": {
    "slideshow": {
     "slide_type": "slide"
    },
    "tags": [],
    "user_expressions": []
   },
   "source": [
    "## JupyterQuiz\n",
    "\n",
    "Simple, interactive multiple/many choice questions\n",
    "\n",
    "`pip install jupyterquiz`\n",
    "\n",
    "![](figs/mc_schema.png)"
   ]
  },
  {
   "cell_type": "markdown",
   "id": "95b3f5b1-f1d2-4e0d-940e-762aedbfa462",
   "metadata": {
    "slideshow": {
     "slide_type": "subslide"
    },
    "tags": [],
    "user_expressions": []
   },
   "source": [
    "Let's make a simple multiple-choice question:"
   ]
  },
  {
   "cell_type": "markdown",
   "id": "4f0bd8d6-9e09-471c-a1be-a83e680a4b97",
   "metadata": {
    "slideshow": {
     "slide_type": "subslide"
    },
    "tags": [],
    "user_expressions": []
   },
   "source": [
    "## Demo in Jupyter Lab "
   ]
  },
  {
   "cell_type": "markdown",
   "id": "20be1887-b822-4c61-9d2f-e6dcade418ca",
   "metadata": {
    "jp-MarkdownHeadingCollapsed": true,
    "slideshow": {
     "slide_type": "subslide"
    },
    "tags": [],
    "user_expressions": []
   },
   "source": [
    "### JupyterQuiz is Designed for **Self** Assessment\n",
    "\n",
    "* Learners can answer  questions repeatedly \n",
    "* Feedback can be provided to guide the learner\n",
    "\n",
    "<div style=\"width:40%;align:center\"><img src=\"figs/turbocharger-operation-diagram.jpg\"></div>\n",
    "\n",
    "\n",
    "\n",
    "Let's add feedback to our previous question:"
   ]
  },
  {
   "cell_type": "markdown",
   "id": "38303217-93e7-4cb6-8f8c-2bd5c5b9256a",
   "metadata": {
    "slideshow": {
     "slide_type": "subslide"
    },
    "tags": [],
    "user_expressions": []
   },
   "source": [
    "## Demo in Jupyter Lab "
   ]
  },
  {
   "cell_type": "markdown",
   "id": "12d4cccd-1e74-4fa9-922d-cea5c11b5628",
   "metadata": {
    "slideshow": {
     "slide_type": "slide"
    },
    "tags": [],
    "user_expressions": []
   },
   "source": [
    "### Numeric Questions\n",
    "\n",
    "* Numeric questions support input as real numbers or fractions\n",
    "\n",
    "* Feedback can be provided based on particular values or ranges of values\n",
    "\n",
    "![](figs/num_schema.png)"
   ]
  },
  {
   "cell_type": "markdown",
   "id": "52518f44-e99a-4a45-a3a0-ab5baf81f7a3",
   "metadata": {
    "slideshow": {
     "slide_type": "subslide"
    },
    "tags": [],
    "user_expressions": []
   },
   "source": [
    "## Demo in Jupyter Lab "
   ]
  },
  {
   "cell_type": "markdown",
   "id": "f54d2c9a-0b08-4116-9cef-b9ec7db50ba2",
   "metadata": {
    "slideshow": {
     "slide_type": "slide"
    },
    "tags": [],
    "user_expressions": []
   },
   "source": [
    "# Other Features\n",
    "\n",
    "* Also supports many-choice questions\n",
    "* Supports randomly sampling from question pools\n",
    "    * useful for implementing *spaced repetition*\n",
    "    * keeps review interesting and meaningful &mdash; when students revisit a notebook or Jupyter Book section, they can see new questions\n",
    "* Can dump student answers to a string that can be submitted for verification of completing the questions "
   ]
  },
  {
   "cell_type": "markdown",
   "id": "6be218f4-ac89-4180-b50e-bdf6346125b3",
   "metadata": {
    "slideshow": {
     "slide_type": "slide"
    },
    "tags": [],
    "user_expressions": []
   },
   "source": [
    "## The Future\n",
    "\n",
    "* Make it easier to create quizzes and flashcards\n",
    "\n",
    "* Allow for personalized questioning\n",
    "    * questions are targeted based on user's current level\n",
    "    * provide links to remedial material\n",
    "    * save progress info to local storage for use across sessions\n",
    "    \n",
    "* Use AI to generate quizzes on the fly\n"
   ]
  },
  {
   "cell_type": "markdown",
   "id": "791da13d-f7bf-48b7-91bb-d8d252193bbb",
   "metadata": {
    "slideshow": {
     "slide_type": "subslide"
    },
    "tags": [],
    "user_expressions": []
   },
   "source": [
    "**DEMO**"
   ]
  },
  {
   "cell_type": "markdown",
   "id": "6039e3ec-5df7-4a85-9343-6692a47858ea",
   "metadata": {
    "slideshow": {
     "slide_type": "slide"
    },
    "tags": [],
    "user_expressions": []
   },
   "source": [
    "## The Future\n",
    "\n",
    "**What capabilities do you want???**\n",
    "\n",
    "**What other types of interactive tools can we use to help students learn?**"
   ]
  },
  {
   "cell_type": "markdown",
   "id": "6ad08ddf-e90f-43ec-8680-455cf4ac5f18",
   "metadata": {
    "slideshow": {
     "slide_type": "slide"
    },
    "tags": [],
    "user_expressions": []
   },
   "source": [
    "## Photo Credits\n",
    "\n",
    "**Pedagogical Motivation**: Photo by <a href=\"https://unsplash.com/@tranmautritam?utm_source=unsplash&utm_medium=referral&utm_content=creditCopyText\">Tran Mau Tri Tam ✪</a> on <a href=\"https://unsplash.com/s/photos/student-computer?utm_source=unsplash&utm_medium=referral&utm_content=creditCopyText\">Unsplash</a>\n",
    "  \n",
    "**Low-Stakes Testing**: \n",
    "CC-BY 2.0 Eli Christman, https://www.flickr.com/photos/gammaman/18602095218\n",
    "\n",
    "**Spaced Repetition**: CC-BY 4.0 Wellcome Library, London. Wellcome Images images@wellcome.ac.uk http://wellcomeimages.org\n",
    "\n",
    "**JupyterQuiz is Designed for Self Assessment**: https://www.eagleridgegm.com/what-is-a-turbocharger-and-how-does-it-work/"
   ]
  }
 ],
 "metadata": {
  "celltoolbar": "Slideshow",
  "kernelspec": {
   "display_name": "Python 3 (ipykernel)",
   "language": "python",
   "name": "python3"
  },
  "language_info": {
   "codemirror_mode": {
    "name": "ipython",
    "version": 3
   },
   "file_extension": ".py",
   "mimetype": "text/x-python",
   "name": "python",
   "nbconvert_exporter": "python",
   "pygments_lexer": "ipython3",
   "version": "3.9.15"
  }
 },
 "nbformat": 4,
 "nbformat_minor": 5
}
